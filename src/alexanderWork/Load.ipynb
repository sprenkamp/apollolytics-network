{
 "cells": [
  {
   "cell_type": "code",
   "execution_count": 2,
   "id": "a76bdd96-80c8-4e36-84db-0e4f0e435fae",
   "metadata": {},
   "outputs": [],
   "source": [
    "import pandas as pd\n",
    "import json"
   ]
  },
  {
   "cell_type": "code",
   "execution_count": 3,
   "id": "a117d71d-8c95-4cfd-b531-cd7a9f329adb",
   "metadata": {},
   "outputs": [],
   "source": [
    "pd.set_option('display.max_columns', None)\n",
    "pd.set_option('display.min_rows', 500)\n",
    "pd.set_option('display.max_rows', 500)\n",
    "pd.set_option('display.max_colwidth', None)"
   ]
  },
  {
   "cell_type": "code",
   "execution_count": 4,
   "id": "afc22620-b103-449a-820c-73141bc016af",
   "metadata": {},
   "outputs": [],
   "source": [
    "input_file = './venezuela-2023-12-05.jsonl'"
   ]
  },
  {
   "cell_type": "code",
   "execution_count": 5,
   "id": "a61426c2-93ad-41b8-b2e2-3712bd3e1934",
   "metadata": {},
   "outputs": [],
   "source": [
    "with open(input_file) as f:\n",
    "    lines = f.read().splitlines()"
   ]
  },
  {
   "cell_type": "code",
   "execution_count": 6,
   "id": "b869b253-cbf7-4206-a236-d2046378d3f5",
   "metadata": {},
   "outputs": [],
   "source": [
    "df_inter = pd.DataFrame(lines)\n",
    "df_inter.columns = ['json_element']"
   ]
  },
  {
   "cell_type": "code",
   "execution_count": null,
   "id": "d81dc1a9-4764-4b06-9455-16504d3003e3",
   "metadata": {},
   "outputs": [],
   "source": [
    "df_inter['json_element'].apply(json.loads)"
   ]
  },
  {
   "cell_type": "code",
   "execution_count": 8,
   "id": "e1129a77-d5c0-4552-9359-ed368f0f4a0a",
   "metadata": {},
   "outputs": [],
   "source": [
    "df_final = pd.json_normalize(df_inter['json_element'].apply(json.loads))"
   ]
  },
  {
   "cell_type": "code",
   "execution_count": null,
   "id": "fbf8b4db-a1ac-4df7-91f9-a666d7752892",
   "metadata": {},
   "outputs": [],
   "source": [
    "df_final.sort_values(['quoteCount'])"
   ]
  },
  {
   "cell_type": "code",
   "execution_count": null,
   "id": "a412015e-d4a6-4340-9b51-8b011a1e5237",
   "metadata": {},
   "outputs": [],
   "source": [
    "df_final.drop_duplicates(subset=['id_str'], keep='last').sort_values(['retweetCount'], ascending=False)[['user.username', 'retweetCount', 'rawContent']]"
   ]
  },
  {
   "cell_type": "code",
   "execution_count": 11,
   "id": "f947510c-ac8f-4e74-ba68-1266406c921f",
   "metadata": {},
   "outputs": [],
   "source": [
    "import networkx as nx"
   ]
  },
  {
   "cell_type": "code",
   "execution_count": 12,
   "id": "4b075a0f-90a4-4ed9-bf08-884780e2cc56",
   "metadata": {},
   "outputs": [],
   "source": [
    "source = df_final.drop_duplicates(subset=['id_str'], keep='last')"
   ]
  },
  {
   "cell_type": "code",
   "execution_count": 13,
   "id": "190dae70-97ab-4793-a03e-260e007ec43e",
   "metadata": {},
   "outputs": [],
   "source": [
    "recs = source.to_dict(orient=\"records\")"
   ]
  },
  {
   "cell_type": "code",
   "execution_count": 14,
   "id": "e89e3fb7-d9ba-4097-bd5e-c74b3ab55f42",
   "metadata": {},
   "outputs": [],
   "source": [
    "G = nx.DiGraph()\n",
    "i = 0\n",
    "for row_dict in recs:\n",
    "    if i < 150000:\n",
    "        dst_node = row_dict['user.username']\n",
    "        for tgt in row_dict['mentionedUsers']:\n",
    "            src_node = tgt['username']\n",
    "            G.add_edge(src_node, dst_node)\n",
    "        i += 1"
   ]
  },
  {
   "cell_type": "code",
   "execution_count": 15,
   "id": "442d86e9-618b-402f-8032-7ae769d69bcf",
   "metadata": {},
   "outputs": [],
   "source": [
    "G.remove_edges_from(nx.selfloop_edges(G))"
   ]
  },
  {
   "cell_type": "code",
   "execution_count": 16,
   "id": "eb384169-4c54-497b-a669-d74ce043d571",
   "metadata": {},
   "outputs": [],
   "source": [
    "G_core = nx.k_core(G, 3)"
   ]
  },
  {
   "cell_type": "code",
   "execution_count": null,
   "id": "8fc56632-593b-46a3-9f73-9f2bce4b4fc3",
   "metadata": {},
   "outputs": [],
   "source": [
    "G_core.nodes()"
   ]
  },
  {
   "cell_type": "code",
   "execution_count": null,
   "id": "fe02ecff-7c58-473c-bfdb-a6447142cfdc",
   "metadata": {},
   "outputs": [],
   "source": [
    "import matplotlib.pyplot as plt\n",
    "plt.figure(figsize=(15, 10))\n",
    "nx.draw(G_core, with_labels=True, font_size=8, node_size=10, width=0.5, edge_color=(0, 0, 0, 0.1))\n",
    "plt.savefig('/Users/atemerev/Documents/net-ua.pdf')\n",
    "plt.show()"
   ]
  },
  {
   "cell_type": "code",
   "execution_count": null,
   "id": "98fe649e-643d-451c-9043-f8fbae6cf745",
   "metadata": {},
   "outputs": [],
   "source": [
    "sorted(G_core.degree, key=lambda x: x[1], reverse=True)"
   ]
  },
  {
   "cell_type": "code",
   "execution_count": null,
   "id": "82ae0edf-2e3b-40de-a036-0383fec14b13",
   "metadata": {},
   "outputs": [],
   "source": [
    "sorted(G.degree, key=lambda x: x[1], reverse=True)"
   ]
  }
 ],
 "metadata": {
  "kernelspec": {
   "display_name": "apollo",
   "language": "python",
   "name": "python3"
  },
  "language_info": {
   "codemirror_mode": {
    "name": "ipython",
    "version": 3
   },
   "file_extension": ".py",
   "mimetype": "text/x-python",
   "name": "python",
   "nbconvert_exporter": "python",
   "pygments_lexer": "ipython3",
   "version": "3.12.4"
  }
 },
 "nbformat": 4,
 "nbformat_minor": 5
}
