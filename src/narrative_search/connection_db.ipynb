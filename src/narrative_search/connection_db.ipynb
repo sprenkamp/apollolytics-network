{
 "cells": [
  {
   "cell_type": "code",
   "execution_count": 1,
   "metadata": {},
   "outputs": [
    {
     "data": {
      "text/plain": [
       "['Collecting psycopg2',\n",
       " '  Downloading psycopg2-2.9.10.tar.gz (385 kB)',\n",
       " '  Installing build dependencies: started',\n",
       " \"  Installing build dependencies: finished with status 'done'\",\n",
       " '  Getting requirements to build wheel: started',\n",
       " \"  Getting requirements to build wheel: finished with status 'done'\",\n",
       " '  Preparing metadata (pyproject.toml): started',\n",
       " \"  Preparing metadata (pyproject.toml): finished with status 'done'\",\n",
       " 'Building wheels for collected packages: psycopg2',\n",
       " '  Building wheel for psycopg2 (pyproject.toml): started',\n",
       " \"  Building wheel for psycopg2 (pyproject.toml): finished with status 'done'\",\n",
       " '  Created wheel for psycopg2: filename=psycopg2-2.9.10-cp311-cp311-macosx_10_9_universal2.whl size=242150 sha256=7df5eb27cd576c17e3e5900dbc0175ebf96f1400d38f6b0d0ea8cbfe29362d26',\n",
       " '  Stored in directory: /Users/guillaumefranzonidarnois/Library/Caches/pip/wheels/d9/83/60/e9660320860aef3c38a67dea6ff9538e4cad76502cb39ed280',\n",
       " 'Successfully built psycopg2',\n",
       " 'Installing collected packages: psycopg2',\n",
       " 'Successfully installed psycopg2-2.9.10']"
      ]
     },
     "execution_count": 1,
     "metadata": {},
     "output_type": "execute_result"
    }
   ],
   "source": [
    "!!pip install psycopg2"
   ]
  },
  {
   "cell_type": "code",
   "execution_count": null,
   "metadata": {},
   "outputs": [
    {
     "name": "stdout",
     "output_type": "stream",
     "text": [
      "PostgreSQL database version:\n"
     ]
    }
   ],
   "source": [
    "import pandas as pd\n",
    "import psycopg2\n",
    "\n",
    "def get_messages():\n",
    "    \"\"\" Connect to the PostgreSQL database server \"\"\"\n",
    "    conn = psycopg2.connect(\n",
    "        dbname=\"telegram_messages\",\n",
    "        user=\"guillaumefranzonidarnois\",\n",
    "        host=\"localhost\"\n",
    "\n",
    "    )\n",
    "    \n",
    "    cur = conn.cursor()\n",
    "        \n",
    "    # execute a statement\n",
    "    print('PostgreSQL database version:')\n",
    "    cur.execute(\"SELECT * FROM public.messages\")\n",
    "\n",
    "    # display the PostgreSQL database server version\n",
    "    db_version = cur.fetchall()\n",
    "    cur.execute(\"select column_name from information_schema.columns where table_schema = 'public' and table_name='messages'\")\n",
    "    columns = cur.fetchall()\n",
    "    return  pd.DataFrame(db_version, columns=[col[0] for col in columns])\n",
    "    \n",
    "\n",
    "\n",
    "messages = get_messages()\n",
    "messages"
   ]
  },
  {
   "cell_type": "code",
   "execution_count": null,
   "metadata": {},
   "outputs": [],
   "source": []
  }
 ],
 "metadata": {
  "kernelspec": {
   "display_name": "Python 3",
   "language": "python",
   "name": "python3"
  },
  "language_info": {
   "codemirror_mode": {
    "name": "ipython",
    "version": 3
   },
   "file_extension": ".py",
   "mimetype": "text/x-python",
   "name": "python",
   "nbconvert_exporter": "python",
   "pygments_lexer": "ipython3",
   "version": "3.11.9"
  }
 },
 "nbformat": 4,
 "nbformat_minor": 2
}
