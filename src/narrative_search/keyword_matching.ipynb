{
 "cells": [
  {
   "cell_type": "code",
   "execution_count": 29,
   "metadata": {},
   "outputs": [],
   "source": [
    "import pandas as pd\n",
    "from tqdm import tqdm\n",
    "from narratives import narratives\n",
    "\n",
    "tqdm.pandas()"
   ]
  },
  {
   "cell_type": "code",
   "execution_count": 30,
   "metadata": {},
   "outputs": [
    {
     "name": "stderr",
     "output_type": "stream",
     "text": [
      "/var/folders/fb/v6scng3j5lbcmnb3mjn82zhr0000gn/T/ipykernel_21133/3619779779.py:1: DtypeWarning: Columns (24,25,27,28,30) have mixed types. Specify dtype option on import or set low_memory=False.\n",
      "  df = pd.read_csv('../../data/telegram/messages_scraped.csv')\n"
     ]
    }
   ],
   "source": [
    "df = pd.read_csv('../../data/telegram/messages_scraped.csv')"
   ]
  },
  {
   "cell_type": "code",
   "execution_count": 31,
   "metadata": {},
   "outputs": [
    {
     "data": {
      "text/plain": [
       "{'languages': ['en', 'ru'],\n",
       " 'keywords': {'en': ['Nazis in Ukraine',\n",
       "   'Ukrainian Nazis',\n",
       "   'Neo-Nazi movements',\n",
       "   'Fascist groups in Ukraine',\n",
       "   'Eliminate Nazi influence',\n",
       "   'Fight against fascism'],\n",
       "  'ru': ['нацисты в Украине',\n",
       "   'украинские нацисты',\n",
       "   'неонацистские движения',\n",
       "   'фашистские группы в Украине',\n",
       "   'геноцид нацистов',\n",
       "   'ликвидировать нацистское влияние',\n",
       "   'бороться с фашизмом']},\n",
       " 'description': {'en': 'Portrays the presence or resurgence of Nazi elements within Ukraine to justify military actions and demonize the Ukrainian government.',\n",
       "  'ru': 'Изображает присутствие или возрождение нацистских элементов в Украине для оправдания военных действий и демонизации украинского правительства.'}}"
      ]
     },
     "execution_count": 31,
     "metadata": {},
     "output_type": "execute_result"
    }
   ],
   "source": [
    "narratives['nazis_in_ukraine']"
   ]
  },
  {
   "cell_type": "code",
   "execution_count": 32,
   "metadata": {},
   "outputs": [
    {
     "data": {
      "text/plain": [
       "['нацисты',\n",
       " 'в',\n",
       " 'Украине',\n",
       " 'украинские',\n",
       " 'нацисты',\n",
       " 'неонацистские',\n",
       " 'движения',\n",
       " 'фашистские',\n",
       " 'группы',\n",
       " 'в',\n",
       " 'Украине',\n",
       " 'геноцид',\n",
       " 'нацистов',\n",
       " 'ликвидировать',\n",
       " 'нацистское',\n",
       " 'влияние',\n",
       " 'бороться',\n",
       " 'с',\n",
       " 'фашизмом']"
      ]
     },
     "execution_count": 32,
     "metadata": {},
     "output_type": "execute_result"
    }
   ],
   "source": [
    "keywords_splits = []\n",
    "for k in narratives['nazis_in_ukraine']['keywords']['ru']:\n",
    "    keywords_splits.extend(k.split(' '))\n",
    "keywords_splits"
   ]
  },
  {
   "cell_type": "code",
   "execution_count": 41,
   "metadata": {},
   "outputs": [
    {
     "data": {
      "text/plain": [
       "['нацисты', 'неонацисты', 'фашист', 'нацист', 'фашизм']"
      ]
     },
     "execution_count": 41,
     "metadata": {},
     "output_type": "execute_result"
    }
   ],
   "source": [
    "to_search = [\n",
    "    'нацисты',\n",
    "    'Неонацисты',\n",
    "    'Фашист',\n",
    "    'Нацист',\n",
    "    'фашизм'\n",
    "]\n",
    "ks = [k.lower() for k in to_search]\n",
    "ks"
   ]
  },
  {
   "cell_type": "code",
   "execution_count": 44,
   "metadata": {},
   "outputs": [
    {
     "name": "stderr",
     "output_type": "stream",
     "text": [
      "100%|██████████| 100000/100000 [00:00<00:00, 143068.13it/s]\n"
     ]
    }
   ],
   "source": [
    "sample = df.sample(100_000)\n",
    "sample['nazi_narrative_sim'] = sample.messageText.progress_apply(lambda x: any(naming in x for naming in keywords_splits))"
   ]
  },
  {
   "cell_type": "code",
   "execution_count": 27,
   "metadata": {},
   "outputs": [
    {
     "name": "stdout",
     "output_type": "stream",
     "text": [
      "⚡️Репортаж военного корреспондента @anna_news из Мариуполя\n",
      "\n",
      "Российские и республиканские военные завершают операцию по разрезанию группировки украинской армии в Мариуполе.\n",
      "\n",
      "Последние оставшиеся в городе украинские силовики разделены в двух котлах, где идет их планомерное уничтожение. 0.7231575778481949\n",
      "====================================================================================================\n"
     ]
    }
   ],
   "source": [
    "for i, r in sample[sample.nazi_narrative_sim == sample.nazi_narrative_sim.max()].iterrows():\n",
    "    print(r.messageText, r.nazi_narrative_sim)\n",
    "    print('='*100)"
   ]
  },
  {
   "cell_type": "code",
   "execution_count": 43,
   "metadata": {},
   "outputs": [
    {
     "data": {
      "text/plain": [
       "nazi_narrative_sim\n",
       "False    96979\n",
       "True      3021\n",
       "Name: count, dtype: int64"
      ]
     },
     "execution_count": 43,
     "metadata": {},
     "output_type": "execute_result"
    }
   ],
   "source": [
    "sample.nazi_narrative_sim.value_counts()"
   ]
  },
  {
   "cell_type": "code",
   "execution_count": null,
   "metadata": {},
   "outputs": [],
   "source": []
  }
 ],
 "metadata": {
  "kernelspec": {
   "display_name": "Python 3",
   "language": "python",
   "name": "python3"
  },
  "language_info": {
   "codemirror_mode": {
    "name": "ipython",
    "version": 3
   },
   "file_extension": ".py",
   "mimetype": "text/x-python",
   "name": "python",
   "nbconvert_exporter": "python",
   "pygments_lexer": "ipython3",
   "version": "3.11.9"
  }
 },
 "nbformat": 4,
 "nbformat_minor": 2
}
