{
 "cells": [
  {
   "cell_type": "code",
   "execution_count": 10,
   "metadata": {},
   "outputs": [],
   "source": [
    "import pandas as pd\n",
    "from tqdm import tqdm\n",
    "from narratives import narratives\n",
    "\n",
    "tqdm.pandas()"
   ]
  },
  {
   "cell_type": "code",
   "execution_count": 11,
   "metadata": {},
   "outputs": [
    {
     "name": "stderr",
     "output_type": "stream",
     "text": [
      "/var/folders/fb/v6scng3j5lbcmnb3mjn82zhr0000gn/T/ipykernel_26465/3619779779.py:1: DtypeWarning: Columns (24,25,27,28,30) have mixed types. Specify dtype option on import or set low_memory=False.\n",
      "  df = pd.read_csv('../../data/telegram/messages_scraped.csv')\n"
     ]
    }
   ],
   "source": [
    "df = pd.read_csv('../../data/telegram/messages_scraped.csv')"
   ]
  },
  {
   "cell_type": "code",
   "execution_count": 12,
   "metadata": {},
   "outputs": [
    {
     "data": {
      "text/plain": [
       "{'languages': ['en', 'ru'],\n",
       " 'keywords': {'en': ['Nazis in Ukraine',\n",
       "   'Ukrainian Nazis',\n",
       "   'Neo-Nazi movements',\n",
       "   'Fascist groups in Ukraine',\n",
       "   'Eliminate Nazi influence',\n",
       "   'Fight against fascism'],\n",
       "  'ru': ['нацисты в Украине',\n",
       "   'украинские нацисты',\n",
       "   'неонацистские движения',\n",
       "   'фашистские группы в Украине',\n",
       "   'геноцид нацистов',\n",
       "   'ликвидировать нацистское влияние',\n",
       "   'бороться с фашизмом']},\n",
       " 'description': {'en': 'Portrays the presence or resurgence of Nazi elements within Ukraine to justify military actions and demonize the Ukrainian government.',\n",
       "  'ru': 'Изображает присутствие или возрождение нацистских элементов в Украине для оправдания военных действий и демонизации украинского правительства.'}}"
      ]
     },
     "execution_count": 12,
     "metadata": {},
     "output_type": "execute_result"
    }
   ],
   "source": [
    "narratives['nazis_in_ukraine']"
   ]
  },
  {
   "cell_type": "code",
   "execution_count": 13,
   "metadata": {},
   "outputs": [],
   "source": [
    "import spacy\n",
    "from spacy.matcher import PhraseMatcher\n",
    "\n",
    "nlp_lg = spacy.load('ru_core_news_lg')"
   ]
  },
  {
   "cell_type": "code",
   "execution_count": 14,
   "metadata": {},
   "outputs": [
    {
     "name": "stderr",
     "output_type": "stream",
     "text": [
      "  0%|          | 66/100000 [00:00<22:24, 74.31it/s]/var/folders/fb/v6scng3j5lbcmnb3mjn82zhr0000gn/T/ipykernel_26465/2465620132.py:5: UserWarning: [W008] Evaluating Doc.similarity based on empty vectors.\n",
      "  sims.append(k.similarity(m_emb))\n",
      "100%|██████████| 100000/100000 [17:11<00:00, 96.92it/s]\n"
     ]
    }
   ],
   "source": [
    "def similarity(x, ks_embs):\n",
    "    m_emb = nlp_lg(x)\n",
    "    sims = []\n",
    "    for k in ks_embs:\n",
    "        sims.append(k.similarity(m_emb))\n",
    "    \n",
    "    return max(sims)\n",
    "\n",
    "ks_embs = [nlp_lg(k) for k in narratives['nazis_in_ukraine']['keywords']['ru']]\n",
    "sample = df.sample(100_000)\n",
    "sample['nazi_narrative_sim'] = sample.messageText.progress_apply(lambda x: similarity(x, ks_embs))"
   ]
  },
  {
   "cell_type": "code",
   "execution_count": 15,
   "metadata": {},
   "outputs": [
    {
     "name": "stdout",
     "output_type": "stream",
     "text": [
      "Присутствие группы Вагнер в Африке 0.858910000830494\n",
      "====================================================================================================\n"
     ]
    }
   ],
   "source": [
    "for i, r in sample[sample.nazi_narrative_sim == sample.nazi_narrative_sim.max()].iterrows():\n",
    "    print(r.messageText, r.nazi_narrative_sim)\n",
    "    print('='*100)"
   ]
  },
  {
   "cell_type": "code",
   "execution_count": 16,
   "metadata": {},
   "outputs": [
    {
     "data": {
      "text/plain": [
       "<Axes: >"
      ]
     },
     "execution_count": 16,
     "metadata": {},
     "output_type": "execute_result"
    },
    {
     "data": {
      "image/png": "[encoded data removed]",
      "text/plain": [
       "<Figure size 640x480 with 1 Axes>"
      ]
     },
     "metadata": {},
     "output_type": "display_data"
    }
   ],
   "source": [
    "sample.nazi_narrative_sim.hist()"
   ]
  },
  {
   "cell_type": "code",
   "execution_count": 17,
   "metadata": {},
   "outputs": [
    {
     "name": "stdout",
     "output_type": "stream",
     "text": [
      "Присутствие группы Вагнер в Африке 0.858910000830494 https://t.me/swodki\n",
      "====================================================================================================\n",
      "Педагоги группы «Вагнер» в Беларуси\n",
      "\n",
      "\"Росич\" 0.8589099625393065 https://t.me/swodki\n",
      "====================================================================================================\n",
      "Что творили нацисты в Бухенвальде\n",
      "https://colonelcassad.livejournal.com/5786832.html 0.8392340204885864 https://t.me/colonel_cassad\n",
      "====================================================================================================\n",
      "Культурный геноцид 0.8210813011508634 https://t.me/swodki\n",
      "====================================================================================================\n",
      "Грузинские повстанцы в 1945 году победили нацистов.\n",
      "\n",
      "* * * 0.7892857119626518 https://t.me/colonel_cassad\n",
      "====================================================================================================\n",
      "❗️Три диверсионно-разведывательные группы ВСУ уничтожены в районах Червоной Дибровы ЛНР, Серебрянки и Григоровки ДНР.\n",
      "\n",
      "Минобороны РФ 0.7821699362511444 https://t.me/SolovievLive\n",
      "====================================================================================================\n",
      "Пленные украинские лётчики. 0.7713130847533995 https://t.me/milinfolive\n",
      "====================================================================================================\n",
      "Как бороться с растяжками\n",
      "https://colonelcassad.livejournal.com/9435926.html 0.7688546749216245 https://t.me/colonel_cassad\n",
      "====================================================================================================\n",
      "Камаз группы Z в освобожденном Армиями России и ДНР Бугасе!\n",
      "\n",
      "t.me/RVvoenkor/1935 0.7649210543875672 https://t.me/RVvoenkor\n",
      "====================================================================================================\n",
      "Военнослужащие, наступающие в составе группировки ДНР, и трофейный HMMWV ВСУ. 0.7645747359301958 https://t.me/swodki\n",
      "====================================================================================================\n"
     ]
    }
   ],
   "source": [
    "top_10 = sample.sort_values(['nazi_narrative_sim'], ascending=False).head(10)\n",
    "\n",
    "for _, row in top_10.iterrows():\n",
    "    print(row.messageText, row.nazi_narrative_sim, row.chat)\n",
    "    print('='*100)"
   ]
  },
  {
   "cell_type": "markdown",
   "metadata": {},
   "source": [
    "# Check using description"
   ]
  },
  {
   "cell_type": "code",
   "execution_count": 18,
   "metadata": {},
   "outputs": [
    {
     "name": "stderr",
     "output_type": "stream",
     "text": [
      "  0%|          | 0/100000 [00:00<?, ?it/s]/var/folders/fb/v6scng3j5lbcmnb3mjn82zhr0000gn/T/ipykernel_26465/2729091000.py:3: UserWarning: [W008] Evaluating Doc.similarity based on empty vectors.\n",
      "  return k_emb.similarity(m_emb)\n",
      "100%|██████████| 100000/100000 [17:34<00:00, 94.86it/s] \n"
     ]
    }
   ],
   "source": [
    "def similarity(x, k_emb):\n",
    "    m_emb = nlp_lg(x)\n",
    "    return k_emb.similarity(m_emb)\n",
    "\n",
    "k_emb = nlp_lg(narratives['nazis_in_ukraine']['description']['ru'])\n",
    "sample_description = df.sample(100_000)\n",
    "sample_description['nazi_narrative_sim'] = sample_description.messageText.progress_apply(lambda x: similarity(x, k_emb))"
   ]
  },
  {
   "cell_type": "code",
   "execution_count": 19,
   "metadata": {},
   "outputs": [
    {
     "name": "stdout",
     "output_type": "stream",
     "text": [
      "❗️Верховный суд признал Легион «Свобода России» террористическим и запретил его на территории РФ.\n",
      "\n",
      "Верховный суд РФ по иску Генеральной прокуратуры РФ признал террористической организацией украинское объединение \"Легион \"Свобода России\", его деятельность запрещена на территории Российской Федерации.\n",
      "\n",
      "Так называемый \"Легион \"Свобода России\" был создан в марте 2022 года по указанию президента Украины Владимира Зеленского для вербовки добровольцев из числа граждан России с целью их участия в боевых действиях на стороне ВСУ.\n",
      "\n",
      "В дальнейшем, согласно планам координаторов формирования, организация должна была быть использована для создания армии в составе российских граждан, совершения террористических актов на территории РФ и свержения центральной власти.\n",
      "\n",
      "В качестве символики объединение использует бело-синий флаг и латинскую букву L.\n",
      "\n",
      "Привлечение новых участников формирования, по версии правоохранительных органов, происходит в социальных сетях, в частности, в Telegram, в местах содержания российских военнопленных и посредством агитационных кампаний. 0.8333855825102413\n",
      "====================================================================================================\n"
     ]
    }
   ],
   "source": [
    "for i, r in sample_description[sample_description.nazi_narrative_sim == sample_description.nazi_narrative_sim.max()].iterrows():\n",
    "    print(r.messageText, r.nazi_narrative_sim)\n",
    "    print('='*100)"
   ]
  },
  {
   "cell_type": "code",
   "execution_count": 20,
   "metadata": {},
   "outputs": [
    {
     "data": {
      "text/plain": [
       "<Axes: >"
      ]
     },
     "execution_count": 20,
     "metadata": {},
     "output_type": "execute_result"
    },
    {
     "data": {
      "image/png": "[encoded data removed]",
      "text/plain": [
       "<Figure size 640x480 with 1 Axes>"
      ]
     },
     "metadata": {},
     "output_type": "display_data"
    }
   ],
   "source": [
    "sample_description.nazi_narrative_sim.hist()"
   ]
  },
  {
   "cell_type": "code",
   "execution_count": 21,
   "metadata": {},
   "outputs": [
    {
     "name": "stdout",
     "output_type": "stream",
     "text": [
      "❗️Верховный суд признал Легион «Свобода России» террористическим и запретил его на территории РФ.\n",
      "\n",
      "Верховный суд РФ по иску Генеральной прокуратуры РФ признал террористической организацией украинское объединение \"Легион \"Свобода России\", его деятельность запрещена на территории Российской Федерации.\n",
      "\n",
      "Так называемый \"Легион \"Свобода России\" был создан в марте 2022 года по указанию президента Украины Владимира Зеленского для вербовки добровольцев из числа граждан России с целью их участия в боевых действиях на стороне ВСУ.\n",
      "\n",
      "В дальнейшем, согласно планам координаторов формирования, организация должна была быть использована для создания армии в составе российских граждан, совершения террористических актов на территории РФ и свержения центральной власти.\n",
      "\n",
      "В качестве символики объединение использует бело-синий флаг и латинскую букву L.\n",
      "\n",
      "Привлечение новых участников формирования, по версии правоохранительных органов, происходит в социальных сетях, в частности, в Telegram, в местах содержания российских военнопленных и посредством агитационных кампаний. 0.8333855825102413 https://t.me/swodki\n",
      "====================================================================================================\n",
      "Глава украинской дипломатии призывает преследовать за Z\n",
      "Министр иностранных дел Украины Дмитрий Кулеба призвал страны мира ввести уголовную ответственность за использование символа Z в качестве выражения поддержки военных действий России в Украине. \"Z означает военные преступления России, разбомбленные города, тысячи убитых украинцев. Публичная поддержка этого варварства должна быть запрещена\", – заявил Кулеба. \n",
      "Буква Z, изначально технический символ, обозначающий одно из направлений движения российских войск в Украине, наряду с другим таким символом – V, превратился в обозначение так называемой \"специальной военной операции\", широко используемое российской пропагандой. 0.8269630492820095 https://t.me/radiosvoboda\n",
      "====================================================================================================\n",
      "Россия обратилась в ЕСПЧ с первой в истории межгосударственной жалобой - против Украины. В списке претензий десять пунктов:\n",
      "- гибель людей во время Евромайдана в 2014 году, при пожаре в Доме профсоюзов в Одессе и во время проведения операции в Донбассе;\n",
      "- \"практика подавления свободы слова и преследования инакомыслящих\" путем запрета работы СМИ и журналистов;\n",
      "- дискриминация русскоговорящего населения и вытеснение русского языка из общественной сферы;\n",
      "- дискриминация российского бизнеса;\n",
      "- гибель людей и уничтожение имущества \"в результате обстрелов Вооруженными силами Украины сопредельной территории Российской Федерации\";\n",
      "- лишение жителей Донбасса возможности участия в выборах в центральные органы власти;\n",
      "- блокирование Северо-Крымского канала \"как основного источника пресной воды для жителей Крымского полуострова\";\n",
      "- нападения на дипломатические представительства России;\n",
      "- крушение самолета \"Малайзийских авиалиний\" 17 июля 2014 года \"вследствие незакрытия властями Украины воздушного пространства над зоной боевых действий\";\n",
      "- \"отказ от оказания необходимой правовой помощи российским следственным органам в расследовании совершенных преступлений\". 0.8251629646470529 https://t.me/radiosvoboda\n",
      "====================================================================================================\n",
      "ЦИПСО - раскрученный миф, или серьёзный враг?\n",
      "\n",
      "К сожалению недооцененный враг является опасной проблемой.После государственного переворота на украине,совершенного при прямом содействии иностранных спецслужб стран НАТО, в 2014 году и перехвата власти в стране,США и их союзники развернули на украине беспрецедентную деятельность.Например в Харькове, в здании СБУ целый этаж занимают специалисты из спецслужб США. За восемь лет была проведена жесточайшая селекция в рядах украинских силовиков.Всё, что хоть как - то пересекалось с русскими и Россией выкорчевывалось.Были произведены кадровые чистки во всех госструктурах страны.Главный критерий на замещение любой вакансии на госслужбе - русофобия.\n",
      "Особое внимание иностранные специалисты уделили созданию того самого ЦИПСО. Нужно отметить что этот новый орган специальной службы украины плоть от плоти плод американской спецслужбы, аналог которой находится в США - 4я группа психологических операций (военных операций информационного обеспечения) вооруженных сил США — основное регулярное формирование ПсО сухопутных войск и одновременно ядро всей структуры психологических операций (ПсО) ВС США, дислоцирующаяся в Форт-Бржгг. Была сформирована в декабре 1967 года.Целью данной структуры является информационная борьба с противником.Создание и реализация информационных диверсий в информационном пространстве на территории противника.Дискредитация высшего военно - политического руководства противника,распространение панических настроений среди населения противника, создание условий для подогрева антиправительственных выступлений в стране противника,искажение реального положения дел в правительстве страны противника, создание нелепых мифов о руководстве страны противника и многое другое это прямая обязанность этой структуры.\n",
      "Все действия производятся путем распространения информации через информационные ресурсы зарегистрированные на территории страны противника.К таким информационным ресурсам относится широкий спектр вовлеченных в данный процесс инструментов начиная от социальных сетей и заканчивая некомерчесскими/коммерческими организациями.Если в информационном поле удаётся раскачать общественное мнение и выплеснуть его на улицы, то руководство этими общественными массами так же координируется через информационные ресурсы структуры.Вспомним майдан в Киеве и неудавшийся майдан в Беларусии, где людские массы коорлинировались через соц сети и телеграм каналы. Именно поэтому в России появился закон \"об иностранных агентах\", который вызвал бурную реакцию в среде лишь этих иностранных агентов.\n",
      "Вернёмся к ЦИПСО на украине.\n",
      "Главная цель и задача ЦИПСО ГУР МО украины и всей структуры психологических операций ВС США сегодня - это дестабилизация общественно - политической ситуации в России.\n",
      "Нашей разведкой доподлинно установлено, что ЦИПСО украины в этом году получило дополнительное финансирование от США в размере 200 млн долларов, на проведение специальных психологических операций на территории России.\n",
      "Перед центром психологических операций поставлена задача создания массы групп и каналов в социальных сетях, якобы от жён и матерей военнослужащих, с целью привлечения указанной аудитории в эти группы.В группах должны публиковаться исключительно негативные материалы об СВО. Упор делается на публикации о бессмысленности противостоянию Западу, о беспределе в Армии России, о том что президент РФ Владимир Путин будет арестован и осуждён международным трибуналом и т. д.\n",
      "Подобные группы и каналы, с подобной тематикой будут создаваться и от имени волонтерских и других общественных организаций, которые будут рассказывать о тотальной коррупции и воровстве в войсках.\n",
      "🔽                                                                      🔽 0.8226358207458068 https://t.me/swodki\n",
      "====================================================================================================\n",
      "Фрагмент научной публикации Сергея Луценко \"От провала к провалу\" (Одесса, \"Маяк\", 1985), в котором рассказывается об участии стран НАТО в организации событий в Чехословакии. \n",
      "\n",
      "\"В подготовке контрреволюционного переворота в стране правые силы ощущали всестороннюю помощь со стороны международного империализма. Его разведывательные службы и подрывные центры развернули вне Чехословакии лихорадочную деятельность, расширяя масштабы вмешательства во внутренние дела страны. Координационным центром подрывных античехословацких операций выступил военный блок НАТО. Еще за несколько месяцев до августовских событий Совет блока разработал специальную программу по ЧССР под кодовым названием «Зефир». Она предусматривала активное использование в интересах Запада действий правых ревизионистов. При главном штабе НАТО была создана специальная группа. Задача — «чехословацкая проблема». Начиная с июля 1968 г. в Регенсбурге (ФРГ) стал действовать «штаб ударной группы», в распоряжение которого были выделены более 300 сотрудников разведслужб и политических советников НАТО. Главой «штаба» был поставлен уроженец Чехословакии, гражданин ФРГ. Трижды в сутки в главный штаб НАТО поступали сводки о положении в Чехословакии, собранные «штабом ударной группы». Как было установлено впоследствии, в тот период в стране находилось более 200 специалистов из армии НАТО и свыше 300 человек из шпионских центров. С целью координации «психологических операций» против ЧССР создало и ЮСИА свой «оперативный штаб», который возглавил П. Спивак— разведчик из госдепартамента.\n",
      "\n",
      "В июле 1968 г. в печати социалистических стран был предан гласности «оперативный план» ЦРУ и Пентагона. В нем, несмотря на смену политических доктрин, по-прежнему особое место занимали военные действия против восточноевропейских социалистических государств, в том числе и подрывные акции против Чехословакии. Агентуре ЦРУ, например, вменялось в обязанность установление контактов с «повстанческими элементами» в соответствующих странах и оказание им поддержки для организации «диверсий и восстаний». Они должны были выяснять результаты ведения союзниками НАТО специальных и психологических операций, выяснять наличие каких-либо организованных подпольных групп сопротивления существующему режиму, определять степень проникновения оппозиционных сил в коммунистическую партию и возможность противодействовать ей. В разделе, касавшемся ЧССР, прямо указывалось, что в ближайшем будущем в этой стране может произойти государственный переворот. При этом особое внимание уделялось инфильтрации оппозиционных сил в органы госбезопасности, военной контрразведки или разведслужб Чехословакии и созданию возможности противодействовать операциям этих органов 6.\n",
      "\n",
      "С целью проведения упомянутого плана в жизнь американское командование перебросило к границам ЧССР отдельную группу войск специального назначения, имевшую в своем составе оперативные отряды. По прикидкам ЦРУ и Пентагона, они были способны обеспечить руководство деятельностью 75 тысяч «повстанцев». Под руководством американских экспертов по шпионажу и диверсиям на базах в Бад-Тельце (ФРГ) и Зальцбурге (Австрия-) было организовано обучение тысяч агентов, которые потом засылались в Чехословакию под видом «туристов». По данным госдепартамента США, количество американских граждан летом 1968 г. в ЧССР составляло около 1500 человек. К 21 августа 1968 г. их число выросло до 3000. Согласно сообщениям самой американской печати, в большинстве своем они являлись агентами ЦРУ. Обращает на себя внимание и тот факт, что уже 26 июля государственные органы США восстановили выплату пенсий чешским эмигрантам, покинувшим в свое время Чехословакию, создавая тем самым стимул для их возвращения на родину с целью проведения подрывных акций.\n",
      "\n",
      "Наряду с развертыванием против Чехословакии широкомасштабной подрывной работы, ее зарубежные вдохновители — правящие круги США и ФРГ были обеспокоены тем, что подстрекательский тон западной печати и ее дифирамбы антисоциалистическим силам грозили 0.8225714332922486 https://t.me/colonel_cassad\n",
      "====================================================================================================\n",
      "Раскол в Киеве. Новые ловушки для России. Доктор политических наук Дмитрий Цыбаков специально для канала Военкор Котенок:\n",
      "\n",
      " В расстановке сил в эшелонах власти Киева три позиции по поводу перспектив боевых действий:\n",
      "\n",
      "1. «95-й квартал» во главе с  «Голобородько»-Зеленским. Это заложники сюрреалистического плана по разгрому/расчленению РФ, заигравшиеся в политику провинциальные  комедианты. Это повышенные запросы, истерики, площадные претензии.\n",
      "\n",
      "2. Высший генералитет в лице командующего ВСУ В.Залужного. Изложенное им в журнале «Экономист» (Лондон) видение ситуации на фронте - свидетельство появления «военной оппозиции». \n",
      "\n",
      "Свидетельство поляризации отношений между политиками и военными - признание Залужным неудачи летне-осеннего наступления раньше своего прямого начальника и вопреки его конкретным рекомендациям. Как и Зе широко разрекламированный Залужный обвинил недальновидных  сюзеренов - они не поняли специфики современной войны, насоветовали «козацству» негодные планы сокрушения Москвы. \n",
      "\n",
      "Обе группировки без принципиальных расхождений: не говорят о «заморозках» и перемириях. Разница: кавээнщик еще мечтает об ограниченном прорыве фронта (на Токмак, на Днепре, у Горловки). Залужный ставит на позиционное противостояние по примеру ирано-иракской войны 1980-1988 гг. с дополнением обеспеченными Западом стратегическими воздушно-ракетными ударами.  \n",
      "\n",
      "Обе стороны - заложники событий на фронте: любое нарушение сложившийся за 2023 г. конфигурации вызовет взаимные обвинения и накал противостояния между ними. \n",
      "\n",
      "После публикации Залужного в «Экономисте» Зе заменил главу ССО. Именно ССО - действенный инструмент военного мятежа/госпереворота. Стоит ожидать отставок и изгнания с армейского Олимпа выдвиженцев Залужного.  \n",
      "\n",
      "По причине неадекватности позиции 2-х сторон не несут для РФ опасности временного замирения с Киевом. Ни Зе, ни За не зовут к перемирию, что дало бы Киеву и его кураторам время и возможность накопить силы для эскалации.\n",
      "\n",
      "3. Ловушка для РФ - в плане пропагандиста А.Арестовича (в реестре РФ экстремистов и террористов). 3-ю группировку представят новые/старые компрадоры, втянутые в глобалистские проекты. Арестович первый из русофобов предложил забыть о новых регионах РФ и развернул схему окончательного закабаления Украины наднациональными структурами. Его демарш согласован в Вашингтоне и Брюсселе. Озвучена идея обмена освобожденных русскими территорий на согласие РФ с принятием Киева в НАТО.  \n",
      "\n",
      "Арестович не провозглашает полноценный международно-правовой отказ от Крыма, ЛДНР, Херсонщины, Запорожья, предлагая перевод притязаний на них из военной плоскости в дипломатию. Он и кураторы изящно обходят ключевое требование РФ, прямо продиктованное интересами нацбезопасности. Присутствие Украины в НАТО не будет принято руководством РФ как условие долгосрочного международного соглашения. Это позволяет надеяться на несостоятельность планов по подрыву национальных интересов РФ. \n",
      "\n",
      "\"Военкор Котенок\" 0.820978616787761 https://t.me/swodki\n",
      "====================================================================================================\n",
      "Относительно протестов в Иране.\n",
      "\n",
      "Иранские СМИ со ссылкой на данные иранских спецслужб опубликовали https://t.me/persianexpress/1913 смету финансовых расходов американских спецслужб на подрывные действия в Иране для организации там беспорядков.\n",
      "\n",
      "Расходы:\n",
      "\n",
      "1. $55 млн для реализации проекта под названием «Дестабилизация внутренней обстановки в иранском обществе».\n",
      "\n",
      "2. $131 млн для финансирования американских СМИ для информационной борьбы.\n",
      "\n",
      "3. $53 млн для укрепления информационных ресурсов и Интернета [в Иране] с целью поддержания связи с зачинщиками беспорядков.\n",
      "\n",
      "4. $353 млн для пропаганды и очернения имиджа Ирана в глазах соседей и дружественных стран за счет международного мейнстнима и соцсетей, прибегая к помощи иранских селебрити в Берлине и ОАЭ, которые предоставили полный доступ ЦРУ к своим аккаунтам в соцсетях.\n",
      "\n",
      "5. $295 млн для борьбы и разрушения ядерной энергетики Ирана.\n",
      "\n",
      "Всего - 887 000 000 мертвых американских президентов.\n",
      "\n",
      "https://t.me/boris_rozhin/68702 - цинк 0.8206180029828334 https://t.me/colonel_cassad\n",
      "====================================================================================================\n",
      "‼️Экстренное заявление официального представителя НМ ДНР \n",
      "\n",
      "🦇Получена информации о проведении украинским руководством очередной фальсификации в г. Мариуполь.\n",
      "\n",
      "❗️На этот раз командованию ВСУ офисом президента поставлена задача дискредитировать действия российских войск путем демонстрации западной общественности массовых захоронений мирного населения, якобы погибшего в результате артиллерийских обстрелов и авиационных ударов в ходе специальной военной операции.\n",
      "\n",
      "♦️С этой целью с 6 по 11 марта на территории старого городского кладбища Мариуполя проведены инженерные работы по оборудованию траншеи глубиной более двух метров и длинной более\n",
      "100 метров. В качестве доказательства массовой гибели мирного населения предусматривалось захоронение останков украинских силовиков\n",
      "и националистов, погибших в ходе боевых действий.\n",
      "\n",
      "♦️По сценарию, военнослужащие 72 центра информационно-психологических операций сил специальных операций ВСУ провели постановочные фото- видео фиксацию «Братской могилы» общей численностью до 1300 погибших.\n",
      "\n",
      "♦️Сфальсифицированные материалы украинской стороной распространены среди западных СМИ.\n",
      "\n",
      "‼️Мы не исключаем, что подобный сценарий может быть реализован в других украинских городах, где мирное население насильно удерживается боевиками теробороны и националистических подразделений Украины 0.8170733340703936 https://t.me/swodki\n",
      "====================================================================================================\n",
      "📄 Минобороны России располагает информацией о создании в США секретной Стратегии противодействия оружию массового поражения\n",
      "\n",
      "Министерство обороны РФ располагает информацией о создании в США секретной Стратегии противодействия оружию массового поражения. Открытая (несекретная) часть документа была опубликована 27 сентября 2023 г. Она конкретизирует положения Стратегии национальной обороны в сфере реагирования на угрозы национальной безопасности, связанные с применением оружия массового поражения.\n",
      "\n",
      "По оценкам Пентагона, Российская Федерация, Китай, Иран и КНДР рассматривают оружие массового поражения в качестве средства ограничения возможностей США по достижению стратегических целей в ходе войн и военных конфликтов. \n",
      "\n",
      "В соответствии со Стратегией, Россия охарактеризована как источник «острой угрозы» американской безопасности в среднесрочной и долгосрочной перспективе.\n",
      "\n",
      "Китайская Народная Республика определена в качестве «нарастающего вызова». Подчеркивается, что Пекин за последнее время добился существенного прогресса в модернизации стратегических ядерных сил. КНДР и Иран определены в качестве постоянных угроз.\n",
      "\n",
      "По замыслу разработчиков приоритетными направлениями деятельности минобороны США являются:\n",
      "– обеспечение защиты национальной территории от внешней агрессии с применением оружия массового поражения;\n",
      "– безоговорочное сдерживание потенциальных противников от его использования против США и их союзников, а также создание специально подготовленных подразделений, способных вести боевые действия и побеждать в условиях РХБ-заражения.\n",
      "\n",
      "Одновременно в Стратегии ставится задача координации и наращивания усилий по созданию средств защиты от новых химических и биологических угроз.\n",
      "\n",
      "Таким образом, отказываясь от работы над протоколом проверки в рамках КБТО, Соединенные Штаты создают административные и технические структуры, которые могут быть задействованы в исследованиях двойного назначения, в том числе - в наступательных целях.\n",
      "\n",
      "🔹 Минобороны России 0.8165290912992095 https://t.me/gramotyyaroslava\n",
      "====================================================================================================\n",
      "Министр обороны Великобритании: Россия не получит отмены санкций в обмен на \"зерновые коридоры\" для Украины\n",
      "Министр обороны Великобритании Бен Уоллес считает неприемлемым предложение России – обеспечить коридоры для вывоза зерна из заблокированных украинских портов в обмен на отмену ряда санкционных ограничений. С таким предложением ранее выступил замглавы МИД РФ Андрей Руденко.\n",
      "\n",
      "Выступая в Мадриде после переговоров со своей испанской коллегой Маргаритой Роблес, Уоллес отметил, что действия России могут способствовать возникновению голода в ряде стран, зависящих от украинского зернового экспорта. Он также обвинил российские власти в фактической краже украинского зерна в регионах Украины, занятых российскими войсками. По мнению британского министра, страны бассейна Черного моря, в частности Турция, могут в целях деблокирования украинских портов организовать сопровождение судов с украинским зерном, предназначенным на экспорт.\n",
      "\n",
      "Ранее глава Еврокомиссии Урсула фон дер Ляйен обвинила Россию в использовании ситуации с продовольственным экспортом в качестве оружия, направленного против Украины и других стран. 0.8162102241967834 https://t.me/radiosvoboda\n",
      "====================================================================================================\n"
     ]
    }
   ],
   "source": [
    "top_10 = sample_description.sort_values(['nazi_narrative_sim'], ascending=False).head(10)\n",
    "\n",
    "for _, row in top_10.iterrows():\n",
    "    print(row.messageText, row.nazi_narrative_sim, row.chat)\n",
    "    print('='*100)"
   ]
  },
  {
   "cell_type": "code",
   "execution_count": null,
   "metadata": {},
   "outputs": [],
   "source": []
  }
 ],
 "metadata": {
  "kernelspec": {
   "display_name": "Python 3",
   "language": "python",
   "name": "python3"
  },
  "language_info": {
   "codemirror_mode": {
    "name": "ipython",
    "version": 3
   },
   "file_extension": ".py",
   "mimetype": "text/x-python",
   "name": "python",
   "nbconvert_exporter": "python",
   "pygments_lexer": "ipython3",
   "version": "3.11.9"
  }
 },
 "nbformat": 4,
 "nbformat_minor": 2
}
